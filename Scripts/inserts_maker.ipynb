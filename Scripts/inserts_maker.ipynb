{
 "cells": [
  {
   "cell_type": "code",
   "execution_count": 28,
   "metadata": {
    "collapsed": true
   },
   "outputs": [],
   "source": [
    "# Import Statements\n",
    "import os\n",
    "import csv\n",
    "import re\n",
    "from numpy import *\n",
    "import sys\n",
    "from datetime import datetime\n",
    "\n",
    "# Setting path to my data files and storing path for each file in the files variable\n",
    "path = 'C:/Users/sandy/PycharmProjects/DataManagement/hotels'\n",
    "files = [i for i in os.listdir(path) if os.path.isfile(os.path.join(path,i)) and \\\n",
    "         'hotel_' in i]\n",
    "\n",
    "# for each file, read its contents, and store the necessary data into specific variables\n",
    "for file in files:\n",
    "    filename = file\n",
    "    g = open(path + \"/\"+filename, \"r\",newline=\"\\n\",errors = 'ignore')\n",
    "    d = g.read()\n",
    "    l = ''\n",
    "    for i in range(1,16):\n",
    "        review = d.split(\"<Author>\")[i]\n",
    "        author = review.split(\"<Content>\")[0].replace(\"\\r\\n\",\"\")\n",
    "        content = review.split(\"<Content>\")[1].split(\"<Date>\")[0].replace(\"\\r\\n\",\"\")\n",
    "        date = review.split(\"<Date>\")[1].split(\"\\r\\n\")[0].replace(\"\\r\\n\",\"\")\n",
    "        date = datetime.strptime(date, '%b %d, %Y')\n",
    "        date = date.strftime('%Y-%m-%d')\n",
    "        overall = review.split(\"<Overall>\")[1].split(\"<Value>\")[0].replace(\"\\r\\n\",\"\")\n",
    "        value = review.split(\"<Value>\")[1].split(\"<Rooms>\")[0].replace(\"\\r\\n\",\"\")\n",
    "        rooms = review.split(\"<Rooms>\")[1].split(\"<Location>\")[0].replace(\"\\r\\n\",\"\")\n",
    "        location = review.split(\"<Location>\")[1].split(\"<Cleanliness>\")[0].replace(\"\\r\\n\",\"\")\n",
    "        cleanliness = review.split(\"<Cleanliness>\")[1].split(\"<Check in / front desk>\")[0].replace(\"\\r\\n\",\"\")\n",
    "        checkin = review.split(\"<Check in / front desk>\")[1].split(\"<Service>\")[0].replace(\"\\r\\n\",\"\")\n",
    "        service = review.split(\"<Service>\")[1].split(\"<Business service>\")[0].replace(\"\\r\\n\",\"\")\n",
    "        bservice = review.split(\"<Business service>\")[1].replace(\"\\r\\n\",\"\")\n",
    "        hotel_id = filename.split(\"_\")[1].split(\".dat\")[0]\n",
    "\n",
    "#         Concatenate the variables into the form of mongodb insert statements\n",
    "        string = \"db.hotels.insert([{ \" + \"\\\"Hotel_id\\\" : \" + hotel_id + \",\\\"Author\\\" : \\\"\" + author + \"\\\" , \\\"Date\\\" : new Date(\\\"\" + date + \"\\\" ), \\\"Overall\\\" : \"+ overall\n",
    "        string1 = string + \", \\\"Value\\\" : \" + value + \", \\\"Room\\\" : \" + rooms + \", \\\"Location\\\" : \" + location + \", \\\"Cleanliness\\\" : \" + cleanliness\n",
    "        insert = string1 + \", \\\"Checkin/frontdesk\\\" : \" + checkin + \", \\\"Service\\\" : \" + service + \", \\\"BService\\\" : \" + bservice  + \",\\\"Reviews\\\" : \\\"\" + content +  \"\\\",\\\"SentimentRate\\\" : 0.427, \\\"Sentiment\\\" : \\\"Positive\\\"}])\"\n",
    "        l = l + insert + \"\\n\\n\\n\"\n",
    "#     make a file with same name as original data file and write the mongo db insert statements, and repeating this for all the data files.\n",
    "    filewrite = open( \"C:/Users/sandy/PycharmProjects/DataManagement/inserts/\"+ str(filename.split(\"_\")[1].split(\".dat\")[0]) + \"_insert.txt\",\"w\") \n",
    "    filewrite.write(l) \n",
    "    filewrite.close()"
   ]
  }
 ],
 "metadata": {
  "kernelspec": {
   "display_name": "Python 3",
   "language": "python",
   "name": "python3"
  },
  "language_info": {
   "codemirror_mode": {
    "name": "ipython",
    "version": 3
   },
   "file_extension": ".py",
   "mimetype": "text/x-python",
   "name": "python",
   "nbconvert_exporter": "python",
   "pygments_lexer": "ipython3",
   "version": "3.6.1"
  }
 },
 "nbformat": 4,
 "nbformat_minor": 2
}
